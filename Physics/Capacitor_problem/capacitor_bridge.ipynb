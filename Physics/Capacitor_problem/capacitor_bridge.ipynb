{
 "cells": [
  {
   "cell_type": "markdown",
   "id": "762b4cad-aa0a-495c-be51-8b18ce2cf54b",
   "metadata": {},
   "source": [
    "# Capacitor problem\n",
    "\n",
    "## Part 1: What is the voltage of the capacitor (assuming that it is fully charged)?"
   ]
  },
  {
   "cell_type": "markdown",
   "id": "3807e85e-7db3-4041-bd23-76680b3487bd",
   "metadata": {},
   "source": [
    "This is the diagram from the problem:\n",
    "\n",
    "![Capacitor in resistor bridge.](./capacitor_circuit.png)"
   ]
  },
  {
   "cell_type": "markdown",
   "id": "39c26813-0009-4184-8d3e-0ccd27431f23",
   "metadata": {},
   "source": [
    "The problem stated that the circuit had been running for a long time, \n",
    "which means the capacitor is fully charged and there is no current running through it.\n",
    "So, to find the voltage dropped by each resistor, we redraw the circuit without the capacitor:\n",
    "\n",
    "![](circuit_no_capacitor.png)"
   ]
  },
  {
   "cell_type": "markdown",
   "id": "92ecd951-91f3-49c8-b3db-af9bf0bf9d9e",
   "metadata": {},
   "source": [
    "where $R1 = 1.00 \\,\\Omega$, $R2 = 4.00 \\,\\Omega$, $R3 = 8.00 \\,\\Omega$, and $R4 = 2.00 \\,\\Omega$. Because R1 and R2 are parallel to R3 and R4, the voltage dropped on R1 and R2 combined must be equal to the voltage dropped by R3 and R4 combined, which must also equal the battery voltage (10.00 V). Using Ohm's Law for each parallel section, we can find the voltage dropped by each resistor:\n",
    "\n",
    "\\\\[\n",
    "    V = IR \\\\\n",
    "    I = \\frac{V}{R} \\\\\n",
    "    V_{Rn} = I Rn \\\\\n",
    "    V_{Rn} = \\frac{V}{R} Rn\n",
    "\\\\]\n",
    "\n",
    "\\\\[\n",
    "    V_{R1} = \\frac{V}{R1 + R2} R1 = \\frac{10.00 \\,\\text{V}}{(1.00 + 4.00) \\,\\Omega} 1.00 \\,\\Omega = 2.00 \\,\\text{V} \\\\\n",
    "    V_{R2} = \\frac{V}{R1 + R2} R2 = \\frac{10.00 \\,\\text{V}}{(1.00 + 4.00) \\,\\Omega} 4.00 \\,\\Omega = 8.00 \\,\\text{V} \\\\\n",
    "    V_{R3} = \\frac{V}{R3 + R4} R3 = \\frac{10.00 \\,\\text{V}}{(8.00 + 2.00) \\,\\Omega} 8.00 \\,\\Omega = 8.00 \\,\\text{V} \\\\\n",
    "    V_{R4} = \\frac{V}{R3 + R4} R4 = \\frac{10.00 \\,\\text{V}}{(8.00 + 2.00) \\,\\Omega} 2.00 \\,\\Omega = 2.00 \\,\\text{V}\n",
    "\\\\]"
   ]
  },
  {
   "cell_type": "markdown",
   "id": "19e9465e-5f13-49be-a9c9-f90ebe5eebae",
   "metadata": {},
   "source": [
    "Now that we have all of these voltages, what do we do with them? Well, \n",
    "to find the voltage dropped by the capacitor, we need to find the voltages \n",
    "measured at the nodes on either side of the capacitor and find the difference\n",
    "between the two. This will equal the voltage of the capacitor.\n",
    "\n",
    "![](./circuit_capacitor_voltage.png)"
   ]
  },
  {
   "cell_type": "markdown",
   "id": "3838c7c3-7e05-45dd-97e3-f6e4b253f5ef",
   "metadata": {},
   "source": [
    "This voltage will equal the voltage difference between R1 and R3 or R2 and R4, \n",
    "as their voltages will be the voltages measured at each of these points of the \n",
    "circuit when compared to the negative terminal or positive terminal of the battery.\n",
    "The voltage difference in either case will be\n",
    "\n",
    "\\\\[\n",
    "    8.00 \\,\\text{V} - 2.00 \\,\\text{V} = 6.00 \\,\\text{V}\n",
    "\\\\]"
   ]
  },
  {
   "cell_type": "markdown",
   "id": "d12aa4c6-ada5-43ba-835e-ed72fd3ffdce",
   "metadata": {},
   "source": [
    "## Part 2: How long will the capacitor take to discharge to 1/10th its voltage once the battery is removed?"
   ]
  },
  {
   "cell_type": "markdown",
   "id": "7449dd03-6b26-4fe9-bc5d-21f169689503",
   "metadata": {},
   "source": [
    "The formula for the discharging of a capacitor is given by \n",
    "\n",
    "\\\\[\n",
    "    V(t) = V_0 e^{\\frac{-t}{RC}}\n",
    "\\\\]\n",
    "\n",
    "where $V_0$ is the initial voltage of the capacitor, $t$ is the time passed in seconds,\n",
    "$C$ is the capacitance of the capacitor, and $R$ is the resistance in series with the \n",
    "capacitor as it discharges. We know everything except the resistance in series with the \n",
    "capacitor, so let's solve for that first.\n",
    "\n",
    "First, let's look at the circuit with the battery removed:\n",
    "\n",
    "![](./circuit_no_battery.png)\n",
    "\n",
    "We can redraw this diagram without the open wires like this:\n",
    "\n",
    "![](./circuit_no_battery2.png)\n",
    "\n",
    "By moving the resistors on the left to the right side of the diagram, \n",
    "we can see that this is a parallel circuit.\n",
    "\n",
    "![](./circuit_no_battery3.png)"
   ]
  },
  {
   "cell_type": "markdown",
   "id": "d3ae6700-f867-4645-9cb3-e3701d83b84f",
   "metadata": {},
   "source": [
    "To find the resistance in series with the capacitor, we use the formula\n",
    "\n",
    "\\\\[\n",
    "    \\frac{1}{R_T} = \\frac{1}{R1 + R3} + \\frac{1}{R2 + R4}\n",
    "\\\\]\n",
    "\n",
    "Solving for $R_T$, we get\n",
    "\n",
    "\\\\[\n",
    "    \\begin{align*}\n",
    "        R_T & = \\frac{(R1 + R3)(R2 + R4)}{R1 + R2 + R3 + R4} \\\\\n",
    "        R_T & = \\frac{(1.00 \\,\\Omega + 8.00 \\,\\Omega)(4.00 \\,\\Omega + 2.00 \\,\\Omega)}{ \\\n",
    "            1.00 \\,\\Omega + 4.00 \\,\\Omega + 8.00 \\,\\Omega + 2.00 \\,\\Omega} \\\\\n",
    "        R_T & = \\frac{(9.00 \\,\\Omega)(6.00 \\,\\Omega)}{15.00 \\,\\Omega} \\\\\n",
    "        R_T & = 3.60 \\,\\Omega\n",
    "    \\end{align*}\n",
    "\\\\]"
   ]
  },
  {
   "cell_type": "markdown",
   "id": "0eaf10d4-0475-4130-946f-3e1c9aaed38e",
   "metadata": {},
   "source": [
    "We can then solve for $t$ from our earlier equation by plugging in $\\frac{1}{10} V_0$\n",
    "in for $V(t)$:\n",
    "\n",
    "\\\\[\n",
    "    \\frac{1}{10} V_0 = V_0 e^{\\frac{-t}{RC}} \\\\\n",
    "    \\frac{1}{10} = e^{\\frac{-t}{RC}} \\\\\n",
    "    10 = e^{\\frac{t}{RC}} \\\\\n",
    "    \\ln(10) = \\frac{1}{RC} t \\\\\n",
    "    t = RC \\ln(10) \\\\\n",
    "    t = (3.60 \\,\\Omega)(1 \\times 10^{-6} \\,\\text{F}) \\ln(10) \\\\\n",
    "    t = 8.29 \\times 10^{-6} \\,\\text{s} = 8.29 \\,\\mu \\text{s}\n",
    "\\\\]"
   ]
  },
  {
   "cell_type": "markdown",
   "id": "3d70be7b-7eb9-4842-a0af-87ee19654ed4",
   "metadata": {},
   "source": [
    "Notice that we did not need the answer from part 1 to find the answer in part 2."
   ]
  }
 ],
 "metadata": {
  "kernelspec": {
   "display_name": "Python 3 (ipykernel)",
   "language": "python",
   "name": "python3"
  },
  "language_info": {
   "codemirror_mode": {
    "name": "ipython",
    "version": 3
   },
   "file_extension": ".py",
   "mimetype": "text/x-python",
   "name": "python",
   "nbconvert_exporter": "python",
   "pygments_lexer": "ipython3",
   "version": "3.10.12"
  }
 },
 "nbformat": 4,
 "nbformat_minor": 5
}
